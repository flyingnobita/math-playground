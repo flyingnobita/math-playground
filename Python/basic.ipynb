{
 "cells": [
  {
   "cell_type": "code",
   "execution_count": 2,
   "id": "9fbf4716-4436-4a22-ba56-148127b3393e",
   "metadata": {},
   "outputs": [],
   "source": [
    "from py_ecc.fields.field_elements import FQ as Field\n",
    "import py_ecc.bn128 as b\n",
    "from typing import NewType"
   ]
  },
  {
   "cell_type": "code",
   "execution_count": 3,
   "id": "463b557f-e6ed-4331-9b3e-dfe131e4fac3",
   "metadata": {},
   "outputs": [],
   "source": [
    "class Scalar(Field):\n",
    "    field_modulus = b.curve_order\n",
    "\n",
    "    # Gets the first root of unity of a given group order\n",
    "    @classmethod\n",
    "    def root_of_unity(cls, group_order: int):\n",
    "        return Scalar(5) ** ((cls.field_modulus - 1) // group_order)\n",
    "\n",
    "    # Gets the full list of roots of unity of a given group order\n",
    "    @classmethod\n",
    "    def roots_of_unity(cls, group_order: int):\n",
    "        o = [Scalar(1), cls.root_of_unity(group_order)]\n",
    "        while len(o) < group_order:\n",
    "            o.append(o[-1] * o[1])\n",
    "        return o"
   ]
  },
  {
   "cell_type": "code",
   "execution_count": 4,
   "id": "e3ca2d79-5989-4e5b-9abd-ea551cdb7b31",
   "metadata": {},
   "outputs": [
    {
     "data": {
      "text/plain": [
       "19540430494807482326159819597004422086093766032135589407132600596362845576832"
      ]
     },
     "execution_count": 4,
     "metadata": {},
     "output_type": "execute_result"
    }
   ],
   "source": [
    "Scalar.root_of_unity(8)"
   ]
  },
  {
   "cell_type": "code",
   "execution_count": null,
   "id": "c2b0db71-2954-4a4d-9982-3ec364674fda",
   "metadata": {},
   "outputs": [],
   "source": []
  }
 ],
 "metadata": {
  "kernelspec": {
   "display_name": "Python 3 (ipykernel)",
   "language": "python",
   "name": "python3"
  },
  "language_info": {
   "codemirror_mode": {
    "name": "ipython",
    "version": 3
   },
   "file_extension": ".py",
   "mimetype": "text/x-python",
   "name": "python",
   "nbconvert_exporter": "python",
   "pygments_lexer": "ipython3",
   "version": "3.11.10"
  }
 },
 "nbformat": 4,
 "nbformat_minor": 5
}
