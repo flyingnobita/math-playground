{
 "cells": [
  {
   "cell_type": "code",
   "execution_count": 58,
   "id": "808add5a-1f0f-4f37-92e6-0771df38cdd6",
   "metadata": {},
   "outputs": [],
   "source": [
    "p = 310717010502520989590157367261876774703\n",
    "a = 2\n",
    "b = 3\n",
    "E = EllipticCurve(FiniteField(p), [a, b])\n",
    "C = E.point((280810182131414898730378982766101210916,291506490768054478159835604632710368904))\n",
    "G = E.point((179210853392303317793440285562762725654,105268671499942631758568591033409611165))"
   ]
  },
  {
   "cell_type": "code",
   "execution_count": 59,
   "id": "71cd46a2-ac51-4ca6-848e-9676dda60c7c",
   "metadata": {},
   "outputs": [
    {
     "data": {
      "text/plain": [
       "Elliptic Curve defined by y^2 = x^3 + 2*x + 3 over Finite Field of size 310717010502520989590157367261876774703"
      ]
     },
     "execution_count": 59,
     "metadata": {},
     "output_type": "execute_result"
    }
   ],
   "source": [
    "E"
   ]
  },
  {
   "cell_type": "code",
   "execution_count": 60,
   "id": "bc518849-b382-4cef-8585-06785f28fd25",
   "metadata": {},
   "outputs": [
    {
     "data": {
      "text/plain": [
       "2^2 * 3^7 * 139 * 165229 * 31850531 * 270778799 * 179317983307"
      ]
     },
     "execution_count": 60,
     "metadata": {},
     "output_type": "execute_result"
    }
   ],
   "source": [
    "factor(E.order())"
   ]
  },
  {
   "cell_type": "code",
   "execution_count": 67,
   "id": "349f2e41-e9ad-4635-aafe-4287b36f7fd9",
   "metadata": {},
   "outputs": [
    {
     "name": "stdout",
     "output_type": "stream",
     "text": [
      "factors: (2, 3, 139, 165229, 31850531, 270778799, 179317983307)\n",
      "exps: (2, 7, 1, 1, 1, 1, 1)\n",
      "primes: [4, 2187, 139, 165229, 31850531, 270778799, 179317983307]\n"
     ]
    }
   ],
   "source": [
    "factors, exps = zip(*factor(E.order()))\n",
    "print(\"factors:\", factors)\n",
    "print(\"exps:\", exps)\n",
    "primes = [factors[i]**exps[i] for i in range(len(factors))]\n",
    "print(\"primes:\", primes)"
   ]
  },
  {
   "cell_type": "code",
   "execution_count": 68,
   "id": "27045aa4-c9c2-4c24-a2bb-34053e70416e",
   "metadata": {},
   "outputs": [
    {
     "name": "stdout",
     "output_type": "stream",
     "text": [
      "factor: 4 dlog: 47836431801801373761601790722388100620\n",
      "factor: 2187 dlog: 1871\n",
      "factor: 139 dlog: 73\n",
      "factor: 165229 dlog: 2080\n",
      "factor: 31850531 dlog: 704661\n",
      "factor: 270778799 dlog: 105138385\n",
      "factor: 179317983307 dlog: 109957133994\n",
      "dlogs: [47836431801801373761601790722388100620, 1871, 73, 2080, 704661, 105138385, 109957133994]\n"
     ]
    }
   ],
   "source": [
    "dlogs = []\n",
    "\n",
    "for fac in primes:\n",
    "  t = int(G.order() / fac)\n",
    "  dlog = discrete_log(t*C, t*G, operation=\"+\")\n",
    "  dlogs += [dlog]\n",
    "  print(\"factor:\", fac, \"dlog:\", dlog)\n",
    "\n",
    "print(\"dlogs:\", dlogs)"
   ]
  },
  {
   "cell_type": "code",
   "execution_count": 69,
   "id": "0ca507de-9df0-489e-823d-2f697e2d530c",
   "metadata": {},
   "outputs": [
    {
     "name": "stdout",
     "output_type": "stream",
     "text": [
      "47836431801801373761601790722388100620\n"
     ]
    }
   ],
   "source": [
    "n = crt(dlogs, primes)\n",
    "print(n)"
   ]
  },
  {
   "cell_type": "code",
   "execution_count": 70,
   "id": "3628cd6c-0190-40eb-b920-00000f21cff4",
   "metadata": {},
   "outputs": [
    {
     "name": "stdout",
     "output_type": "stream",
     "text": [
      "True\n"
     ]
    }
   ],
   "source": [
    "print(n * G == C)"
   ]
  },
  {
   "cell_type": "code",
   "execution_count": null,
   "id": "9ef31234-f6e9-41be-8971-56d41e4405eb",
   "metadata": {},
   "outputs": [],
   "source": []
  }
 ],
 "metadata": {
  "kernelspec": {
   "display_name": "SageMath 10.2",
   "language": "sage",
   "name": "sagemath-10.2"
  },
  "language_info": {
   "codemirror_mode": {
    "name": "ipython",
    "version": 3
   },
   "file_extension": ".py",
   "mimetype": "text/x-python",
   "name": "python",
   "nbconvert_exporter": "python",
   "pygments_lexer": "ipython3",
   "version": "3.11.1"
  }
 },
 "nbformat": 4,
 "nbformat_minor": 5
}
