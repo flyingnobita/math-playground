{
 "cells": [
  {
   "cell_type": "code",
   "execution_count": 5,
   "id": "29991f8d-a7a5-403f-b027-b122caf3913c",
   "metadata": {},
   "outputs": [],
   "source": [
    "from Crypto.Cipher import AES\n",
    "from Crypto.Util.Padding import pad, unpad\n",
    "from random import randint\n",
    "import hashlib\n",
    "\n",
    "# Generate public and private key\n",
    "def gen_public_key():\n",
    "    private = randint(1, E.order() - 1)\n",
    "    public = G * private\n",
    "    return(public, private)"
   ]
  },
  {
   "cell_type": "code",
   "execution_count": 6,
   "id": "3bf55737-e39a-40df-a79d-140f00988432",
   "metadata": {},
   "outputs": [],
   "source": [
    "def shared_secret(public_key, private_key):\n",
    "    S = public_key * private_key\n",
    "    # print(\"typeof(S):\", type(S))\n",
    "    # print(\"typeof(S.xy()):\", type(S.xy()))\n",
    "    # print(\"S:\", S)\n",
    "    # print(\"S.xy():\", S.xy())\n",
    "    return S.xy()[0]"
   ]
  },
  {
   "cell_type": "code",
   "execution_count": 7,
   "id": "3c4dfadd-32d7-4bc6-8b45-23277433ae09",
   "metadata": {},
   "outputs": [],
   "source": [
    "def encrypt_flag(flag):\n",
    "    \n",
    "    # Calculate shared secret\n",
    "    A, nA = gen_public_key()\n",
    "    print(f'Public Key: {A}')\n",
    "    secret = shared_secret(B, nA)\n",
    "    \n",
    "    # Derive AES key from shared secret\n",
    "    sha1 = hashlib.sha1()\n",
    "    sha1.update(str(secret).encode('ascii'))\n",
    "    key = sha1.digest()[:16]\n",
    "    \n",
    "    # Encrypt flag\n",
    "    iv = os.urandom(16)\n",
    "    cipher = AES.new(key, AES.MODE_CBC, iv)\n",
    "    ciphertext = cipher.encrypt(pad(FLAG, 16))\n",
    "    \n",
    "    # Prepare encryption to send\n",
    "    data = {}\n",
    "    data['iv'] = iv.hex()\n",
    "    data['encrypted_flag'] = ciphertext.hex()\n",
    "    return data"
   ]
  },
  {
   "cell_type": "code",
   "execution_count": 8,
   "id": "898a8efa-648a-4226-beb5-e35e28c25bdb",
   "metadata": {},
   "outputs": [],
   "source": [
    "def HenselLift(P,p,prec):\n",
    "    E = P.curve()\n",
    "    Eq = E.change_ring(QQ)\n",
    "    Ep = Eq.change_ring(Qp(p,prec))\n",
    "    x_P,y_P = P.xy()\n",
    "    x_lift = ZZ(x_P)\n",
    "    y_lift = ZZ(y_P)\n",
    "    x, y, a1, a2, a3, a4, a6 = var('x,y,a1,a2,a3,a4,a6')\n",
    "    f(a1,a2,a3,a4,a6,x,y) = y^2 + a1*x*y + a3*y - x^3 - a2*x^2 - a4*x - a6\n",
    "    print(type(f))\n",
    "    g(y) = f(ZZ(Eq.a1()),ZZ(Eq.a2()),ZZ(Eq.a3()),ZZ(Eq.a4()),ZZ(Eq.a6()),ZZ(x_P),y)\n",
    "    gDiff = g.diff()\n",
    "    \n",
    "    for i in range(1,prec):\n",
    "        uInv = ZZ(gDiff(y=y_lift))\n",
    "        u = uInv.inverse_mod(p^i)\n",
    "        y_lift = y_lift - u*g(y_lift)\n",
    "        y_lift = ZZ(Mod(y_lift,p^(i+1)))\n",
    "\n",
    "    y_lift = y_lift+O(p^prec)\n",
    "\n",
    "    return Ep([x_lift,y_lift])"
   ]
  },
  {
   "cell_type": "code",
   "execution_count": 9,
   "id": "3584668e-9147-4ec4-998d-9176d00e72d2",
   "metadata": {},
   "outputs": [],
   "source": [
    "def SmartAttack(P,Q,p,prec):\n",
    "    E = P.curve()\n",
    "    Eqq = E.change_ring(QQ)\n",
    "    Eqp = Eqq.change_ring(Qp(p,prec))\n",
    "    P_Qp = HenselLift(P,p,prec)\n",
    "    Q_Qp = HenselLift(Q,p,prec)\n",
    "    p_times_P = p*P_Qp\n",
    "    p_times_Q=p*Q_Qp\n",
    "    x_P,y_P = p_times_P.xy()\n",
    "    x_Q,y_Q = p_times_Q.xy()\n",
    "    phi_P = -(x_P/y_P)\n",
    "    phi_Q = -(x_Q/y_Q)\n",
    "    k = phi_Q/phi_P\n",
    "    k = Mod(k,p)\n",
    "\n",
    "    return k"
   ]
  },
  {
   "cell_type": "code",
   "execution_count": 10,
   "id": "8d890649-9ebd-4e58-b1af-66696ce52a40",
   "metadata": {},
   "outputs": [
    {
     "name": "stdout",
     "output_type": "stream",
     "text": [
      "E.gens():  ((3034712809375537908102988750113382444008758539448972750581525810900634243392172703684905257490982543775233630011707375189041302436945106395617312498769005 : 4986645098582616415690074082237817624424333339074969364527548107042876175480894132576399611027847402879885574130125050842710052291870268101817275410204850 : 1),)\n",
      "Generator: (3034712809375537908102988750113382444008758539448972750581525810900634243392172703684905257490982543775233630011707375189041302436945106395617312498769005 : 4986645098582616415690074082237817624424333339074969364527548107042876175480894132576399611027847402879885574130125050842710052291870268101817275410204850 : 1)\n",
      "Public Key: (4222574641914807060821302982592046963938500077878492018374900031716480203011933534968141535011215704295801900558216090288370534131917866391378797990415283 : 408460623067389185330218703077143912280538567328107404346002673324719929944861957911672839894611856390508841868408021768057098249430291063986833882730519 : 1)\n",
      "{'iv': 'dcabc766238a63f80cd758f68f378c9a', 'encrypted_flag': 'd0dd67c007ffc7908c6ea53f54c9128154c586f9b04281592968023e53a0eea8'}\n"
     ]
    }
   ],
   "source": [
    "FLAG = b'crypto{??????????????????????}'\n",
    "\n",
    "# Curve params\n",
    "p = 0xa15c4fb663a578d8b2496d3151a946119ee42695e18e13e90600192b1d0abdbb6f787f90c8d102ff88e284dd4526f5f6b6c980bf88f1d0490714b67e8a2a2b77\n",
    "a = 0x5e009506fcc7eff573bc960d88638fe25e76a9b6c7caeea072a27dcd1fa46abb15b7b6210cf90caba982893ee2779669bac06e267013486b22ff3e24abae2d42\n",
    "b = 0x2ce7d1ca4493b0977f088f6d30d9241f8048fdea112cc385b793bce953998caae680864a7d3aa437ea3ffd1441ca3fb352b0b710bb3f053e980e503be9a7fece\n",
    "\n",
    "# Define curve\n",
    "E = EllipticCurve(GF(p), [a, b])\n",
    "\n",
    "# Bob's public key\n",
    "b_x = 0x7f0489e4efe6905f039476db54f9b6eac654c780342169155344abc5ac90167adc6b8dabacec643cbe420abffe9760cbc3e8a2b508d24779461c19b20e242a38\n",
    "b_y = 0xdd04134e747354e5b9618d8cb3f60e03a74a709d4956641b234daa8a65d43df34e18d00a59c070801178d198e8905ef670118c15b0906d3a00a662d3a2736bf\n",
    "B = E(b_x, b_y)\n",
    "\n",
    "G = E(3034712809375537908102988750113382444008758539448972750581525810900634243392172703684905257490982543775233630011707375189041302436945106395617312498769005, 4986645098582616415690074082237817624424333339074969364527548107042876175480894132576399611027847402879885574130125050842710052291870268101817275410204850)\n",
    "A = E(4748198372895404866752111766626421927481971519483471383813044005699388317650395315193922226704604937454742608233124831870493636003725200307683939875286865, 2421873309002279841021791369884483308051497215798017509805302041102468310636822060707350789776065212606890489706597369526562336256272258544226688832663757)\n",
    "ciphertext = {'iv': '719700b2470525781cc844db1febd994', 'encrypted_flag': '335470f413c225b705db2e930b9d460d3947b3836059fb890b044e46cbb343f0'}\n",
    "\n",
    "\n",
    "\n",
    "# Protect against Pohlig-Hellman Algorithm\n",
    "assert is_prime(E.order())\n",
    "\n",
    "# Create generator\n",
    "print(\"E.gens(): \", E.gens())\n",
    "G = E.gens()[0]\n",
    "print(f'Generator: {G}')\n",
    "\n",
    "\n",
    "encrypted_flag = encrypt_flag(FLAG)\n",
    "\n",
    "print(encrypted_flag)"
   ]
  },
  {
   "cell_type": "code",
   "execution_count": 13,
   "id": "4baa5cb3-45fc-493e-9d1c-c7a6d956b63e",
   "metadata": {},
   "outputs": [
    {
     "name": "stdout",
     "output_type": "stream",
     "text": [
      "43\n",
      "<class 'sage.symbolic.expression.Expression'>\n",
      "<class 'sage.symbolic.expression.Expression'>\n",
      "n: 39\n"
     ]
    }
   ],
   "source": [
    "E = EllipticCurve(GF(43), [0,-4,0,-128,-432])\n",
    "print(E.order())\n",
    "P=E([0,16])\n",
    "Q=39*P\n",
    "n = SmartAttack(P,Q,43,8)\n",
    "print(\"n:\", n)"
   ]
  },
  {
   "cell_type": "code",
   "execution_count": 50,
   "id": "53e8e46b-1662-4582-a970-ea2984978903",
   "metadata": {},
   "outputs": [
    {
     "ename": "NameError",
     "evalue": "name 'decrypt_flag' is not defined",
     "output_type": "error",
     "traceback": [
      "\u001b[0;31m---------------------------------------------------------------------------\u001b[0m",
      "\u001b[0;31mNameError\u001b[0m                                 Traceback (most recent call last)",
      "Cell \u001b[0;32mIn [50], line 2\u001b[0m\n\u001b[1;32m      1\u001b[0m shared_secret \u001b[38;5;241m=\u001b[39m (A \u001b[38;5;241m*\u001b[39m n)\u001b[38;5;241m.\u001b[39mxy()[Integer(\u001b[38;5;241m0\u001b[39m)]\n\u001b[0;32m----> 2\u001b[0m plaintext \u001b[38;5;241m=\u001b[39m \u001b[43mdecrypt_flag\u001b[49m(\n\u001b[1;32m      3\u001b[0m     shared_secret, ciphertext[\u001b[38;5;124m\"\u001b[39m\u001b[38;5;124miv\u001b[39m\u001b[38;5;124m\"\u001b[39m], ciphertext[\u001b[38;5;124m\"\u001b[39m\u001b[38;5;124mencrypted_flag\u001b[39m\u001b[38;5;124m\"\u001b[39m]\n\u001b[1;32m      4\u001b[0m )\n\u001b[1;32m      5\u001b[0m \u001b[38;5;28mprint\u001b[39m(\u001b[38;5;124m\"\u001b[39m\u001b[38;5;124mplaintext: \u001b[39m\u001b[38;5;124m\"\u001b[39m, plaintext)\n",
      "\u001b[0;31mNameError\u001b[0m: name 'decrypt_flag' is not defined"
     ]
    }
   ],
   "source": [
    "shared_secret = (A * n).xy()[0]\n",
    "plaintext = decrypt_flag(\n",
    "    shared_secret, ciphertext[\"iv\"], ciphertext[\"encrypted_flag\"]\n",
    ")\n",
    "print(\"plaintext: \", plaintext)"
   ]
  },
  {
   "cell_type": "code",
   "execution_count": null,
   "id": "9dea81e7-602f-4b06-9b34-73e38e51009c",
   "metadata": {},
   "outputs": [],
   "source": []
  }
 ],
 "metadata": {
  "kernelspec": {
   "display_name": "SageMath 10.2",
   "language": "sage",
   "name": "sagemath-10.2"
  },
  "language_info": {
   "codemirror_mode": {
    "name": "ipython",
    "version": 3
   },
   "file_extension": ".py",
   "mimetype": "text/x-python",
   "name": "python",
   "nbconvert_exporter": "python",
   "pygments_lexer": "ipython3",
   "version": "3.11.1"
  }
 },
 "nbformat": 4,
 "nbformat_minor": 5
}
